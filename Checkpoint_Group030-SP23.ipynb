{
 "cells": [
  {
   "cell_type": "markdown",
   "metadata": {},
   "source": [
    "# COGS 118A - Project Checkpoint"
   ]
  },
  {
   "cell_type": "markdown",
   "metadata": {},
   "source": [
    "# Names\n",
    "\n",
    "Hopefully your team is at least this good. Obviously you should replace these with your names.\n",
    "\n",
    "- Banso Nguyen\n",
    "- Kirsten Nino\n",
    "- Rufeng Chen\n",
    "- Shan He"
   ]
  },
  {
   "cell_type": "markdown",
   "metadata": {},
   "source": [
    "# Abstract \n",
    "Our goal is to find out the factors that influence movie ratings and use those factors to try to predict the performance of upcoming movies. The dataset we used contains various variables such as genre, release date, production companies and other related information about 45,000 movies released around the world. We will be performing two separate linear regressions once we have cleaned our dataset. In order to measure the performance of the movies, we have decided to use the following variables: revenue and vote average (audience score). "
   ]
  },
  {
   "cell_type": "markdown",
   "metadata": {},
   "source": [
    "# Background\n",
    "\n",
    "There are many factors that can influence how a movie is rated, like its budget, director, actors/actresses, its genre, and etc.. How these factors influence the movie ratings has been an area of interest for researchers.\n",
    "\n",
    "The budget of a movie is generally thought to be the main determinant of its rating. Higher budgets often lead to higher production quality, top-notch actors, and more extensive advertisements. These could potentially draw larger audiences and better reviews. A 2013 study by Eliashberg, Elberse, and Leenders found that higher budgets often leads to more promising film projects.<a name=\"Eliashberg\"></a>[<sup>[1]</sup>](#Eliashberg)\n",
    "\n",
    "People often anticipate movies by their favorite directors, and directors who've produced great movies in the past often receive higher ratings for their new works. Wallace, Seigerman, and Holbrook found that directors with previous successes are more likely to have higher box-office sales as well as better reviews.<a name=\"Wallace\"></a>[<sup>[2]</sup>](#Wallace)\n",
    "\n",
    "Moreover, genre is another big contributing factor to movie ratings. Some genres just seem to resonate more with audiences and critics. De Vany and Walls' study showed that action flicks and dramas usually get higher ratings than comedies or horror movies.<a name=\"De Vany\"></a>[<sup>[3]</sup>](#De) \n",
    "\t\n",
    "There are also many more factors that can alter the performance of a movie, such as the movie's casts, release date, and its marketing strategies. We will find out more about what factors influence movie ratings and predict the movie’s ratings based on those factors."
   ]
  },
  {
   "cell_type": "markdown",
   "metadata": {},
   "source": [
    "# Problem Statement\n",
    "\n",
    "In the rapidly expanding world of film and television, discerning which movies are set to be hits or misses is a challenge for average audiences. Typically, we wait for critic reviews or box office results, but what if we could predict the outcome of a movie? Our goal is to try building a way of predicting a movie's success before it's even hit the screens. We will be creating a model that takes into account a range of information, such as budget, production company, genre and use these variables to predict a movie's success. All these factors can be represented by numbers, some variables can be represented by encoding them. The measurable aspect of this problem relates to the metrics used to determine a movie's success: its revenue and audience score (vote average). The model's performance can be measured by comparing the predicted success against the actual performance of the film’s post-release, which offers an objective method for evaluating our model's accuracy and reliability. The model we're building can be replicated for all movies. By using a large dataset of 45,000 movies from around the world, our model's learning and predictions can be reproduced and improved upon over time. To solve this problem, we'll experiment with multiple different machine learning models - specifically linear regression models. We'll compare them and pick the most accurate. The selected model would then be used to predict the performance of upcoming movies, providing audiences with a guide to potential movie success. "
   ]
  },
  {
   "cell_type": "markdown",
   "metadata": {},
   "source": [
    "# Data\n",
    "\n",
    "While cleaning the data from our original dataset, we realized that eliminating rows with null values resulted in a much too small dataset. We went from 119k samples to only several thousand. Thus we changed our dataset to similar one, the Movies Dataset:\n",
    "\n",
    "\n",
    "The Movies Dataset\n",
    "https://www.kaggle.com/datasets/rounakbanik/the-movies-dataset?select=movies_metadata.csv\n",
    "\n",
    "\n",
    "The dataset used for this project is obtained from the FullMovieLens Dataset, a community-built movie database. The dataset contains information on more than 45,000 released internationally. The dataset is in CSV format and is pipe-delimited.\n",
    "\n",
    "\n",
    "Size of the Dataset:\n",
    "The dataset consists of approximately 45,000 records and has 24 features (variables) that provide comprehensive information about each movie or TV show.\n",
    "\n",
    "\n",
    "Observation:\n",
    "Each observation in the dataset represents a movie. It contains various details about the production, release, cast, crew, and other relevant information associated with the title.\n",
    "\n",
    "\n",
    "Critical Variables:\n",
    "Some critical variables in the dataset include:\n",
    "\n",
    "\n",
    "|Variable|Description|\n",
    "|---|---|\n",
    "|adult | If this movie is rated for adult audiences. |\n",
    "|belongs_to_collection | Indicates whether the movie belongs to a collection, with the collection specified if it exists. |\n",
    "|budget | The budget of the movie. |\n",
    "|genres | The genres that movie falls into. |\n",
    "|homepage | Link to homepage of movie website. |\n",
    "|original_language| Specifies the original language of the movie. |\n",
    "|original_title| Specifies the original title of the movie. |\n",
    "|overview | Provides a summary or synopsis of the movie. |\n",
    "|popularity | Represents the popularity index of the movie. |\n",
    "|production_companies | Lists the companies involved in producing the movie. |\n",
    "|production_countries | Indicates the country where the movie is produced. |\n",
    "|release_date | Represents the release date of the movie. |\n",
    "|revenue | Represents the revenue generated by the movie. If missing, it is represented by 0. |\n",
    "|runtime | Denotes the duration of the movie in minutes. |\n",
    "|spoken_languages | The different languages spoken in the movie. |\n",
    "|status | Indicates whether the movie is released or not. |\n",
    "|tagline | Provides the tagline associated with the movie. |\n",
    "|title | Specifies the English alias title of the movie. |\n",
    "|vote_average | Represents the average vote rating given by viewers. |\n",
    "|overview | Represents the synopsis of the movie. |\n",
    "\n",
    "\n",
    "Handling, Transformations, Cleaning:\n",
    "* *Handling Missing Values: Check for missing values in the budget, popularity, and income variables. We will use imputation (replace missing values with mean, median or mode) or remove observations with missing values.*\n",
    "* *Handling Categorical Variables: Since the dataset contains categorical variables such as original_language or production_companies, we need to encode them using one-hot encoding technique to convert them into a suitable numerical representation.*\n",
    "* *Data type conversion: Ensure budget, popularity, and revenue variables are in numeric format. Convert them from string or object data types to numeric data types (such as integers or floating-point numbers) to perform mathematical operations and analysis on them.*\n",
    "* *Scaling or normalization: since we may be using regression models or clustering algorithms which are sensitive to the extent of the data, we need to normalize the budget, popularity and income variables using z-score normalization or min-max scaling , making them comparable in size.*\n",
    "* *Remove irrelevant features: Identify any irrelevant or redundant features that do not contribute significantly to the analysis or prediction. Removing these features simplifies the dataset and reduces noise.*\n",
    "* *Data Splitting: Since we plan to build a predictive model of revenue or popularity, we need to split the dataset into training and testing sets to evaluate the performance of the model. This allows us to train the model on partial data and evaluate its accuracy on unseen data.*\n"
   ]
  },
  {
   "cell_type": "markdown",
   "metadata": {},
   "source": [
    "# Proposed Solution\n",
    "\n",
    "To predict a movie's success, we're focusing on two key indicators: revenue and audience score (also known as vote average). We propose employing the following machine learning models to accomplish this - Linear Regression and Logistic Regression.\n",
    "\n",
    "We will be performing two separate linear regressions. Since we're dealing with continuous target variables, which are revenue and vote average, linear Regression would be perfect for helping us understand the relationship between factors like budget, director, genre, and release date and our target variables. This model works by fitting a line through our data in a way that best predicts the performance of upcoming movies. We will also use regularization techniques (Lasso) to squish the least important parameters to zero to leave the most prevalent ones. To implement this, we will use the Scikit-learn library's Linear Regression model to fit the data. The model's performance will be evaluated using a loss function, with gradient descent employed to minimize this loss and optimize the model.\n",
    "\n",
    "Another solution is to perform a logistic regression which classifies a movie's success based on a certain threshold value for revenue and audience score. With Logistic Regression, we can measure how far a movie's predicted score is from a decision boundary and use that to determine the likelihood of its success. For instance, a decision boundary will be made if the vote average is above or below a rating of 7 and the farther a point is away from the decision boundary, the higher the probability the movie is successful/unsuccessful (depending on which side the point is on). We're planning on using the Scikit-learn library to implement our Logistic Regression model. We'll measure the model's performance using the soft log loss function and adjust the weights using gradient descent.\n",
    "\n",
    "We may plan to exclude certain features, such as actors (since one-hot encoding would be too numerous) or overview (since movie plots are too unique to compare). Also, as mentioned earlier in the Data section, we will make sure missing values are handled with imputation, one-hot encode the according non-numerical features, and split the dataset with k-fold (value to be determined). With the remaining variables we can run the above mentioned methods with the Numpy, Scikit-learn libraries. A potential benchmark model is k-NN, and we can make two, one for predicting revenue and the other voter average. We can then compare these two with the corresponding linear and logistic regressions. Comparing our proposed models to this benchmark will help us assess the relative effectiveness of our chosen methods."
   ]
  },
  {
   "cell_type": "markdown",
   "metadata": {},
   "source": [
    "# Evaluation Metrics\n",
    "\n",
    "One evaluation metric that we could use to quantify the performance of the linear regression model in predicting whether or not the movie will be successful or not is with mean squared error. This will measure how accurate our model is. \n",
    "\n",
    "Another possible metric, while less effective but still applicable, would be positive predictive value (PPV) or precision. Our project could be interpreted by predicting a binary result of successful/ not successful, however this metric is much simpler and provides much less insight. We could also make a ROC-AUC to evaluate how good our model is. \n",
    "\n",
    "The following metrics are not complex, and easily work with linear and logistic regression respectively. MSE is able to evaluate the prediction from a linear regression model, and the binary classification result from logistic regression can be evaluated with PPV.\n"
   ]
  },
  {
   "cell_type": "markdown",
   "metadata": {},
   "source": [
    "# Preliminary results\n"
   ]
  },
  {
   "cell_type": "code",
   "execution_count": null,
   "metadata": {},
   "outputs": [],
   "source": [
    "import pandas as pd\n",
    "import numpy as np\n",
    "import seaborn as sns\n",
    "import matplotlib.pyplot as plt\n",
    "import zipfile\n",
    "from sklearn.model_selection import train_test_split\n",
    "from sklearn.linear_model import LinearRegression, LogisticRegression\n",
    "from sklearn.metrics import mean_squared_error, accuracy_score\n",
    "\n",
    "movie_df = pd.read_csv('movies_metadata.csv')\n",
    "movie_df"
   ]
  },
  {
   "cell_type": "code",
   "execution_count": null,
   "metadata": {},
   "outputs": [],
   "source": [
    "selected_columns = ['budget', 'genres', 'original_language', 'popularity', 'production_companies', 'production_countries', 'revenue', 'runtime', 'spoken_languages', 'vote_average', 'vote_count']\n",
    "movie_df = movie_df[selected_columns]\n"
   ]
  },
  {
   "cell_type": "code",
   "execution_count": null,
   "metadata": {},
   "outputs": [],
   "source": [
    "df = movie_df[(movie_df != 0 ).all(1)]\n",
    "df = df[(df != '0').all(1)]\n",
    "df = df[(df != 0.0).all(1)]\n",
    "df = df[(df != '0.0').all(1)]\n",
    "df = df[(df != '[]').all(1)]\n",
    "df"
   ]
  },
  {
   "cell_type": "code",
   "execution_count": null,
   "metadata": {},
   "outputs": [],
   "source": [
    "def encode_and_bind(original_dataframe, feature_to_encode):\n",
    "    dummies = pd.get_dummies(original_dataframe[[feature_to_encode]])\n",
    "    res = pd.concat([original_dataframe, dummies], axis=1)\n",
    "    res = res.drop([feature_to_encode], axis=1)\n",
    "    return(res) "
   ]
  },
  {
   "cell_type": "code",
   "execution_count": null,
   "metadata": {},
   "outputs": [],
   "source": [
    "df = df.apply(pd.to_numeric, errors='coerce').dropna()"
   ]
  },
  {
   "cell_type": "code",
   "execution_count": null,
   "metadata": {},
   "outputs": [],
   "source": [
    "# Target and Features\n",
    "X = df.drop(['revenue', 'vote_average'], axis=1)\n",
    "y_revenue = df['revenue']\n",
    "y_vote = df['vote_average']"
   ]
  },
  {
   "cell_type": "code",
   "execution_count": null,
   "metadata": {},
   "outputs": [],
   "source": [
    "X_train, X_test, y_train_revenue, y_test_revenue = train_test_split(X, y_revenue, test_size=0.2, random_state=42)\n",
    "_, _, y_train_vote, y_test_vote = train_test_split(X, y_vote, test_size=0.2, random_state=42)"
   ]
  },
  {
   "cell_type": "code",
   "execution_count": 1,
   "metadata": {},
   "outputs": [
    {
     "ename": "NameError",
     "evalue": "name 'df' is not defined",
     "output_type": "error",
     "traceback": [
      "\u001b[1;31m---------------------------------------------------------------------------\u001b[0m",
      "\u001b[1;31mNameError\u001b[0m                                 Traceback (most recent call last)",
      "Cell \u001b[1;32mIn[1], line 2\u001b[0m\n\u001b[0;32m      1\u001b[0m \u001b[38;5;66;03m# Target and Features\u001b[39;00m\n\u001b[1;32m----> 2\u001b[0m X \u001b[38;5;241m=\u001b[39m \u001b[43mdf\u001b[49m\u001b[38;5;241m.\u001b[39mdrop([\u001b[38;5;124m'\u001b[39m\u001b[38;5;124mrevenue\u001b[39m\u001b[38;5;124m'\u001b[39m, \u001b[38;5;124m'\u001b[39m\u001b[38;5;124mvote_average\u001b[39m\u001b[38;5;124m'\u001b[39m], axis\u001b[38;5;241m=\u001b[39m\u001b[38;5;241m1\u001b[39m)\n\u001b[0;32m      3\u001b[0m y_revenue \u001b[38;5;241m=\u001b[39m df[\u001b[38;5;124m'\u001b[39m\u001b[38;5;124mrevenue\u001b[39m\u001b[38;5;124m'\u001b[39m]\n\u001b[0;32m      4\u001b[0m y_vote \u001b[38;5;241m=\u001b[39m df[\u001b[38;5;124m'\u001b[39m\u001b[38;5;124mvote_average\u001b[39m\u001b[38;5;124m'\u001b[39m]\n",
      "\u001b[1;31mNameError\u001b[0m: name 'df' is not defined"
     ]
    }
   ],
   "source": [
    "# Target and Features\n",
    "X = df.drop(['revenue', 'vote_average'], axis=1)\n",
    "y_revenue = df['revenue']\n",
    "y_vote = df['vote_average']\n",
    "X_train, X_test, y_train_revenue, y_test_revenue = train_test_split(X, y_revenue, test_size=0.2, randomstate=42)\n",
    ", _, y_train_vote, y_test_vote = train_test_split(X, y_vote, test_size=0.2, random_state=42)"
   ]
  },
  {
   "cell_type": "code",
   "execution_count": null,
   "metadata": {},
   "outputs": [],
   "source": [
    "float()\n",
    "df['your_column_name'] = df['your_column_name'].astype(float)\n",
    "df['budget'] = df['budget'].astype(float)"
   ]
  },
  {
   "cell_type": "code",
   "execution_count": null,
   "metadata": {},
   "outputs": [],
   "source": [
    "# Linear Regression for revenue prediction\n",
    "lin_reg_revenue = LinearRegression()\n",
    "lin_reg_revenue.fit(X_train, y_train_revenue)\n",
    "y_pred_revenue = lin_reg_revenue.predict(X_test)\n",
    "print(f\"RMSE for revenue prediction: {np.sqrt(mean_squared_error(y_test_revenue, y_pred_revenue))}\")"
   ]
  },
  {
   "cell_type": "code",
   "execution_count": null,
   "metadata": {},
   "outputs": [],
   "source": [
    "# Linear Regression for vote average prediction\n",
    "lin_reg_vote = LinearRegression()\n",
    "lin_reg_vote.fit(X_train, y_train_vote)\n",
    "y_pred_vote = lin_reg_vote.predict(X_test)\n",
    "print(f\"RMSE for vote average prediction: {np.sqrt(mean_squared_error(y_test_vote, y_pred_vote))}\")\n"
   ]
  },
  {
   "cell_type": "code",
   "execution_count": null,
   "metadata": {},
   "outputs": [],
   "source": []
  },
  {
   "cell_type": "markdown",
   "metadata": {},
   "source": [
    "# Ethics & Privacy"
   ]
  },
  {
   "cell_type": "markdown",
   "metadata": {},
   "source": [
    "Personal Information Privacy: The dataset contains the names of people involved in the film industry, such as actors, directors, or production staff. We will anonymize the personal information in the data, i.e. remove relevant variables.\n",
    "\n",
    "Fairness in revenue forecasting: This dataset will be used for forecasting, so inadvertent unfairness may arise. For example, certain genre, production company, or country of origin data may be favored in revenue projections, leading to potential discrepancies or unequal opportunities.\n",
    "\n",
    "Unintended analysis and discrimination: When analyzing datasets, there is a risk of unintended analysis and discrimination. Models or algorithms trained on data may inadvertently learn to bias certain groups based on factors such as language, genre, or country of production."
   ]
  },
  {
   "cell_type": "markdown",
   "metadata": {},
   "source": [
    "# Team Expectations "
   ]
  },
  {
   "cell_type": "markdown",
   "metadata": {},
   "source": [
    "* *Communicate through Discord and regularly schedule weekly remote meetings*\n",
    "* *Major project decisions, review of work done during zoom or discord meetings2*\n",
    "* *Work is to be divided equally, individually completed before next meeting*"
   ]
  },
  {
   "cell_type": "markdown",
   "metadata": {},
   "source": [
    "# Project Timeline Proposal"
   ]
  },
  {
   "cell_type": "markdown",
   "metadata": {},
   "source": [
    "| Meeting Date  | Meeting Time| Completed Before Meeting  | Discuss at Meeting |\n",
    "|---|---|---|---|\n",
    "| 5/17  |  4:30 |  Each part of the project proposal  | Finalize proposal and push to GitHub | \n",
    "| 5/23  |  6:15 |  Read the proposals | Complete peer review, discuss parts of the checkpoint and assign | \n",
    "| 5/30  | 6:15  | Assigned checkpoint parts  | Finalize the checkpoint and push to GitHub. Talk about what is left for final project and assign parts |\n",
    "| 6/8  | 6:15  | Make good progress/finish final project parts | Discuss what is completed and make edits. |\n",
    "| 6/13  | 6:15  | Finish assigned final parts | Finalize and push to GitHub |"
   ]
  },
  {
   "cell_type": "markdown",
   "metadata": {},
   "source": [
    "# Footnotes\n",
    "<a name=\"Eliashberg\"></a>1.[^](#Eliashberg):Eliashberg, J., Elberse, A., & Leenders, M. A. (2013). The Motion Picture Industry: Critical Issues in Practice, Current Research, and New Research Directions:https://repository.upenn.edu/cgi/viewcontent.cgi?article=1179&context=oid_papers<br> \n",
    "\n",
    "<a name=\"Wallace\"></a>2.[^](#Wallace):Wallace, W. T., Seigerman, A., & Holbrook, M. B. (1993). The Role of Actors and Actresses in the Success of Films: How Much Is a Movie Star Worth?https://link.springer.com/article/10.1007/BF00820765<br>\n",
    "\n",
    "<a name=\"De Vany\"></a>3.[^](#De):De Vany, A., & Walls, W. D. (1996). Bose–Einstein dynamics and adaptive contracting in the motion picture industry.https://econpapers.repec.org/article/ecjeconjl/v_3a106_3ay_3a1996_3ai_3a439_3ap_3a1493-1514.htm<br>\n"
   ]
  },
  {
   "cell_type": "code",
   "execution_count": null,
   "metadata": {},
   "outputs": [],
   "source": []
  }
 ],
 "metadata": {
  "kernelspec": {
   "display_name": "Python 3 (ipykernel)",
   "language": "python",
   "name": "python3"
  },
  "language_info": {
   "codemirror_mode": {
    "name": "ipython",
    "version": 3
   },
   "file_extension": ".py",
   "mimetype": "text/x-python",
   "name": "python",
   "nbconvert_exporter": "python",
   "pygments_lexer": "ipython3",
   "version": "3.9.16"
  }
 },
 "nbformat": 4,
 "nbformat_minor": 2
}
