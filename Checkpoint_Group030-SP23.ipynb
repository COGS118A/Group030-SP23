{
 "cells": [
  {
   "cell_type": "markdown",
   "metadata": {},
   "source": [
    "# COGS 118A - Project Checkpoint"
   ]
  },
  {
   "cell_type": "markdown",
   "metadata": {},
   "source": [
    "# Names\n",
    "\n",
    "Hopefully your team is at least this good. Obviously you should replace these with your names.\n",
    "\n",
    "- Banso Nguyen\n",
    "- Kirsten Nino\n",
    "- Rufeng Chen\n",
    "- Shan He"
   ]
  },
  {
   "cell_type": "markdown",
   "metadata": {},
   "source": [
    "# Abstract \n",
    "Our goal is to find out the factors that influence movie ratings and use those factors to try to predict the performance of upcoming movies. The dataset we used contains various variables such as genre, release date, production companies and other related information about 45,000 movies released around the world. We will be performing two separate linear regressions once we have cleaned our dataset. In order to measure the performance of the movies, we have decided to use the following variables: revenue and vote average (audience score). "
   ]
  },
  {
   "cell_type": "markdown",
   "metadata": {},
   "source": [
    "# Background\n",
    "\n",
    "There are many factors that can influence how a movie is rated, like its budget, director, actors/actresses, its genre, and etc.. How these factors influence the movie ratings has been an area of interest for researchers.\n",
    "\n",
    "The budget of a movie is generally thought to be the main determinant of its rating. Higher budgets often lead to higher production quality, top-notch actors, and more extensive advertisements. These could potentially draw larger audiences and better reviews. A 2013 study by Eliashberg, Elberse, and Leenders found that higher budgets often leads to more promising film projects.<a name=\"Eliashberg\"></a>[<sup>[1]</sup>](#Eliashberg)\n",
    "\n",
    "People often anticipate movies by their favorite directors, and directors who've produced great movies in the past often receive higher ratings for their new works. Wallace, Seigerman, and Holbrook found that directors with previous successes are more likely to have higher box-office sales as well as better reviews.<a name=\"Wallace\"></a>[<sup>[2]</sup>](#Wallace)\n",
    "\n",
    "Moreover, genre is another big contributing factor to movie ratings. Some genres just seem to resonate more with audiences and critics. De Vany and Walls' study showed that action flicks and dramas usually get higher ratings than comedies or horror movies.<a name=\"De Vany\"></a>[<sup>[3]</sup>](#De) \n",
    "\t\n",
    "There are also many more factors that can alter the performance of a movie, such as the movie's casts, release date, and its marketing strategies. We will find out more about what factors influence movie ratings and predict the movie’s ratings based on those factors."
   ]
  },
  {
   "cell_type": "markdown",
   "metadata": {},
   "source": [
    "# Problem Statement\n",
    "\n",
    "In the rapidly expanding world of film and television, discerning which movies are set to be hits or misses is a challenge for average audiences. Typically, we wait for critic reviews or box office results, but what if we could predict the outcome of a movie? Our goal is to try building a way of predicting a movie's success before it's even hit the screens. We will be creating a model that takes into account a range of information, such as budget, production company, genre and use these variables to predict a movie's success. All these factors can be represented by numbers, some variables can be represented by encoding them. The measurable aspect of this problem relates to the metrics used to determine a movie's success: its revenue and audience score (vote average). The model's performance can be measured by comparing the predicted success against the actual performance of the film’s post-release, which offers an objective method for evaluating our model's accuracy and reliability. The model we're building can be replicated for all movies. By using a large dataset of 45,000 movies from around the world, our model's learning and predictions can be reproduced and improved upon over time. To solve this problem, we'll experiment with multiple different machine learning models - specifically linear regression models. We'll compare them and pick the most accurate. The selected model would then be used to predict the performance of upcoming movies, providing audiences with a guide to potential movie success. "
   ]
  },
  {
   "cell_type": "markdown",
   "metadata": {},
   "source": [
    "# Data\n",
    "\n",
    "While cleaning the data from our original dataset, we realized that eliminating rows with null values resulted in a much too small dataset. We went from 119k samples to only several thousand. Thus we changed our dataset to similar one, the Movies Dataset:\n",
    "\n",
    "\n",
    "The Movies Dataset\n",
    "https://www.kaggle.com/datasets/rounakbanik/the-movies-dataset?select=movies_metadata.csv\n",
    "\n",
    "\n",
    "The dataset used for this project is obtained from the FullMovieLens Dataset, a community-built movie database. The dataset contains information on more than 45,000 released internationally. The dataset is in CSV format and is pipe-delimited.\n",
    "\n",
    "\n",
    "Size of the Dataset:\n",
    "The dataset consists of approximately 45,000 records and has 24 features (variables) that provide comprehensive information about each movie or TV show.\n",
    "\n",
    "\n",
    "Observation:\n",
    "Each observation in the dataset represents a movie. It contains various details about the production, release, cast, crew, and other relevant information associated with the title.\n",
    "\n",
    "\n",
    "Critical Variables:\n",
    "Some critical variables in the dataset include:\n",
    "\n",
    "\n",
    "|Variable|Description|\n",
    "|---|---|\n",
    "|adult | If this movie is rated for adult audiences. |\n",
    "|belongs_to_collection | Indicates whether the movie belongs to a collection, with the collection specified if it exists. |\n",
    "|budget | The budget of the movie. |\n",
    "|genres | The genres that movie falls into. |\n",
    "|homepage | Link to homepage of movie website. |\n",
    "|original_language| Specifies the original language of the movie. |\n",
    "|original_title| Specifies the original title of the movie. |\n",
    "|overview | Provides a summary or synopsis of the movie. |\n",
    "|popularity | Represents the popularity index of the movie. |\n",
    "|production_companies | Lists the companies involved in producing the movie. |\n",
    "|production_countries | Indicates the country where the movie is produced. |\n",
    "|release_date | Represents the release date of the movie. |\n",
    "|revenue | Represents the revenue generated by the movie. If missing, it is represented by 0. |\n",
    "|runtime | Denotes the duration of the movie in minutes. |\n",
    "|spoken_languages | The different languages spoken in the movie. |\n",
    "|status | Indicates whether the movie is released or not. |\n",
    "|tagline | Provides the tagline associated with the movie. |\n",
    "|title | Specifies the English alias title of the movie. |\n",
    "|vote_average | Represents the average vote rating given by viewers. |\n",
    "|overview | Represents the synopsis of the movie. |\n",
    "\n",
    "\n",
    "Handling, Transformations, Cleaning:\n",
    "* *Handling Missing Values: Check for missing values in the budget, popularity, and income variables. We will use imputation (replace missing values with mean, median or mode) or remove observations with missing values.*\n",
    "* *Handling Categorical Variables: Since the dataset contains categorical variables such as original_language or production_companies, we need to encode them using one-hot encoding technique to convert them into a suitable numerical representation.*\n",
    "* *Data type conversion: Ensure budget, popularity, and revenue variables are in numeric format. Convert them from string or object data types to numeric data types (such as integers or floating-point numbers) to perform mathematical operations and analysis on them.*\n",
    "* *Scaling or normalization: since we may be using regression models or clustering algorithms which are sensitive to the extent of the data, we need to normalize the budget, popularity and income variables using z-score normalization or min-max scaling , making them comparable in size.*\n",
    "* *Remove irrelevant features: Identify any irrelevant or redundant features that do not contribute significantly to the analysis or prediction. Removing these features simplifies the dataset and reduces noise.*\n",
    "* *Data Splitting: Since we plan to build a predictive model of revenue or popularity, we need to split the dataset into training and testing sets to evaluate the performance of the model. This allows us to train the model on partial data and evaluate its accuracy on unseen data.*\n"
   ]
  },
  {
   "cell_type": "markdown",
   "metadata": {},
   "source": [
    "# Proposed Solution\n",
    "\n",
    "To predict a movie's success, we're focusing on two key indicators: revenue and audience score (also known as vote average). We propose employing the following machine learning models to accomplish this - Linear Regression and Logistic Regression.\n",
    "\n",
    "We will be performing two separate linear regressions. Since we're dealing with continuous target variables, which are revenue and vote average, linear Regression would be perfect for helping us understand the relationship between factors like budget, director, genre, and release date and our target variables. This model works by fitting a line through our data in a way that best predicts the performance of upcoming movies. We will also use regularization techniques (Lasso) to squish the least important parameters to zero to leave the most prevalent ones. To implement this, we will use the Scikit-learn library's Linear Regression model to fit the data. The model's performance will be evaluated using a loss function, with gradient descent employed to minimize this loss and optimize the model.\n",
    "\n",
    "Another solution is to perform a logistic regression which classifies a movie's success based on a certain threshold value for revenue and audience score. With Logistic Regression, we can measure how far a movie's predicted score is from a decision boundary and use that to determine the likelihood of its success. For instance, a decision boundary will be made if the vote average is above or below a rating of 7 and the farther a point is away from the decision boundary, the higher the probability the movie is successful/unsuccessful (depending on which side the point is on). We're planning on using the Scikit-learn library to implement our Logistic Regression model. We'll measure the model's performance using the soft log loss function and adjust the weights using gradient descent.\n",
    "\n",
    "We may plan to exclude certain features, such as actors (since one-hot encoding would be too numerous) or overview (since movie plots are too unique to compare). Also, as mentioned earlier in the Data section, we will make sure missing values are handled with imputation, one-hot encode the according non-numerical features, and split the dataset with k-fold (value to be determined). With the remaining variables we can run the above mentioned methods with the Numpy, Scikit-learn libraries. A potential benchmark model is k-NN, and we can make two, one for predicting revenue and the other voter average. We can then compare these two with the corresponding linear and logistic regressions. Comparing our proposed models to this benchmark will help us assess the relative effectiveness of our chosen methods."
   ]
  },
  {
   "cell_type": "markdown",
   "metadata": {},
   "source": [
    "# Evaluation Metrics\n",
    "\n",
    "One evaluation metric that we could use to quantify the performance of the linear regression model in predicting whether or not the movie will be successful or not is with mean squared error. This will measure how accurate our model is. \n",
    "\n",
    "Another possible metric, while less effective but still applicable, would be positive predictive value (PPV) or precision. Our project could be interpreted by predicting a binary result of successful/ not successful, however this metric is much simpler and provides much less insight. We could also make a ROC-AUC to evaluate how good our model is. \n",
    "\n",
    "The following metrics are not complex, and easily work with linear and logistic regression respectively. MSE is able to evaluate the prediction from a linear regression model, and the binary classification result from logistic regression can be evaluated with PPV.\n"
   ]
  },
  {
   "cell_type": "markdown",
   "metadata": {},
   "source": [
    "# Preliminary results\n"
   ]
  },
  {
   "cell_type": "code",
   "execution_count": 69,
   "metadata": {},
   "outputs": [],
   "source": [
    "import pandas as pd\n",
    "import numpy as np\n",
    "import seaborn as sns\n",
    "import matplotlib.pyplot as plt\n",
    "import zipfile\n",
    "import ast\n",
    "from sklearn.model_selection import train_test_split\n",
    "from sklearn.linear_model import LinearRegression, LogisticRegression\n",
    "from sklearn.metrics import mean_squared_error, accuracy_score\n",
    "from ast import literal_eval\n",
    "from sklearn.preprocessing import StandardScaler\n",
    "from sklearn.model_selection import GridSearchCV\n",
    "from sklearn.metrics import classification_report, confusion_matrix\n",
    "from sklearn.ensemble import RandomForestClassifier\n",
    "from sklearn.metrics import accuracy_score"
   ]
  },
  {
   "cell_type": "code",
   "execution_count": 70,
   "metadata": {},
   "outputs": [
    {
     "name": "stderr",
     "output_type": "stream",
     "text": [
      "C:\\Users\\Henry\\AppData\\Local\\Temp\\ipykernel_76232\\3569940797.py:1: DtypeWarning: Columns (10) have mixed types. Specify dtype option on import or set low_memory=False.\n",
      "  movie_df = pd.read_csv('movies_metadata.csv')\n"
     ]
    }
   ],
   "source": [
    "movie_df = pd.read_csv('movies_metadata.csv')"
   ]
  },
  {
   "cell_type": "markdown",
   "metadata": {},
   "source": [
    "## Data Cleaning"
   ]
  },
  {
   "cell_type": "code",
   "execution_count": 71,
   "metadata": {},
   "outputs": [],
   "source": [
    "selected_columns = ['budget', 'genres', 'original_language', 'popularity', 'production_companies', 'production_countries', 'revenue', 'runtime', 'spoken_languages', 'vote_average', 'vote_count']\n",
    "movie_df = movie_df[selected_columns]\n",
    "movie_df = movie_df.dropna()"
   ]
  },
  {
   "cell_type": "code",
   "execution_count": 72,
   "metadata": {},
   "outputs": [],
   "source": [
    "#remove any unwanted data\n",
    "df = movie_df[(movie_df != 0 ).all(1)]\n",
    "df = df[(df != '0').all(1)]\n",
    "df = df[(df != 0.0).all(1)]\n",
    "df = df[(df != '0.0').all(1)]\n",
    "df = df[(df != '[]').all(1)]"
   ]
  },
  {
   "cell_type": "code",
   "execution_count": 73,
   "metadata": {},
   "outputs": [],
   "source": [
    "#extract parts wanted from each cell\n",
    "df['genres'] = df['genres'].apply(literal_eval).apply(lambda x: [i['name'] for i in x] if isinstance(x, list) else [])\n",
    "df['production_companies'] = df['production_companies'].apply(literal_eval).apply(lambda x: [i['name'] for i in x] if isinstance(x, list) else [])\n",
    "df['production_countries'] = df['production_countries'].apply(literal_eval).apply(lambda x: [i['name'] for i in x] if isinstance(x, list) else [])\n",
    "df['spoken_languages'] = df['spoken_languages'].apply(literal_eval).apply(lambda x: [i['name'] for i in x] if isinstance(x, list) else [])"
   ]
  },
  {
   "cell_type": "code",
   "execution_count": 74,
   "metadata": {},
   "outputs": [],
   "source": [
    "df_1 = df.drop('production_companies', axis=1)"
   ]
  },
  {
   "cell_type": "code",
   "execution_count": 75,
   "metadata": {},
   "outputs": [],
   "source": [
    "def encode_and_bind(original_dataframe, feature_to_encode):\n",
    "    dummies = pd.get_dummies(original_dataframe[feature_to_encode].apply(pd.Series).stack()).sum(level=0)\n",
    "    res = pd.concat([original_dataframe, dummies], axis=1)\n",
    "    res = res.drop([feature_to_encode], axis=1)\n",
    "    return(res) "
   ]
  },
  {
   "cell_type": "code",
   "execution_count": 76,
   "metadata": {},
   "outputs": [
    {
     "name": "stderr",
     "output_type": "stream",
     "text": [
      "C:\\Users\\Henry\\AppData\\Local\\Temp\\ipykernel_76232\\57247096.py:2: FutureWarning: Using the level keyword in DataFrame and Series aggregations is deprecated and will be removed in a future version. Use groupby instead. df.sum(level=1) should use df.groupby(level=1).sum().\n",
      "  dummies = pd.get_dummies(original_dataframe[feature_to_encode].apply(pd.Series).stack()).sum(level=0)\n",
      "C:\\Users\\Henry\\AppData\\Local\\Temp\\ipykernel_76232\\57247096.py:2: FutureWarning: Using the level keyword in DataFrame and Series aggregations is deprecated and will be removed in a future version. Use groupby instead. df.sum(level=1) should use df.groupby(level=1).sum().\n",
      "  dummies = pd.get_dummies(original_dataframe[feature_to_encode].apply(pd.Series).stack()).sum(level=0)\n",
      "C:\\Users\\Henry\\AppData\\Local\\Temp\\ipykernel_76232\\57247096.py:2: FutureWarning: Using the level keyword in DataFrame and Series aggregations is deprecated and will be removed in a future version. Use groupby instead. df.sum(level=1) should use df.groupby(level=1).sum().\n",
      "  dummies = pd.get_dummies(original_dataframe[feature_to_encode].apply(pd.Series).stack()).sum(level=0)\n",
      "C:\\Users\\Henry\\AppData\\Local\\Temp\\ipykernel_76232\\57247096.py:2: FutureWarning: Using the level keyword in DataFrame and Series aggregations is deprecated and will be removed in a future version. Use groupby instead. df.sum(level=1) should use df.groupby(level=1).sum().\n",
      "  dummies = pd.get_dummies(original_dataframe[feature_to_encode].apply(pd.Series).stack()).sum(level=0)\n",
      "C:\\Users\\Henry\\AppData\\Local\\Temp\\ipykernel_76232\\57247096.py:2: FutureWarning: Using the level keyword in DataFrame and Series aggregations is deprecated and will be removed in a future version. Use groupby instead. df.sum(level=1) should use df.groupby(level=1).sum().\n",
      "  dummies = pd.get_dummies(original_dataframe[feature_to_encode].apply(pd.Series).stack()).sum(level=0)\n"
     ]
    }
   ],
   "source": [
    "#one hot encoding df\n",
    "df = encode_and_bind(df, 'genres')\n",
    "df = encode_and_bind(df, 'original_language')\n",
    "df = encode_and_bind(df, 'production_companies')\n",
    "df = encode_and_bind(df, 'production_countries')\n",
    "df = encode_and_bind(df, 'spoken_languages')"
   ]
  },
  {
   "cell_type": "code",
   "execution_count": 77,
   "metadata": {},
   "outputs": [
    {
     "name": "stderr",
     "output_type": "stream",
     "text": [
      "C:\\Users\\Henry\\AppData\\Local\\Temp\\ipykernel_76232\\57247096.py:2: FutureWarning: Using the level keyword in DataFrame and Series aggregations is deprecated and will be removed in a future version. Use groupby instead. df.sum(level=1) should use df.groupby(level=1).sum().\n",
      "  dummies = pd.get_dummies(original_dataframe[feature_to_encode].apply(pd.Series).stack()).sum(level=0)\n",
      "C:\\Users\\Henry\\AppData\\Local\\Temp\\ipykernel_76232\\57247096.py:2: FutureWarning: Using the level keyword in DataFrame and Series aggregations is deprecated and will be removed in a future version. Use groupby instead. df.sum(level=1) should use df.groupby(level=1).sum().\n",
      "  dummies = pd.get_dummies(original_dataframe[feature_to_encode].apply(pd.Series).stack()).sum(level=0)\n",
      "C:\\Users\\Henry\\AppData\\Local\\Temp\\ipykernel_76232\\57247096.py:2: FutureWarning: Using the level keyword in DataFrame and Series aggregations is deprecated and will be removed in a future version. Use groupby instead. df.sum(level=1) should use df.groupby(level=1).sum().\n",
      "  dummies = pd.get_dummies(original_dataframe[feature_to_encode].apply(pd.Series).stack()).sum(level=0)\n",
      "C:\\Users\\Henry\\AppData\\Local\\Temp\\ipykernel_76232\\57247096.py:2: FutureWarning: Using the level keyword in DataFrame and Series aggregations is deprecated and will be removed in a future version. Use groupby instead. df.sum(level=1) should use df.groupby(level=1).sum().\n",
      "  dummies = pd.get_dummies(original_dataframe[feature_to_encode].apply(pd.Series).stack()).sum(level=0)\n"
     ]
    }
   ],
   "source": [
    "df_1 = encode_and_bind(df_1, 'genres')\n",
    "df_1 = encode_and_bind(df_1, 'original_language')\n",
    "df_1 = encode_and_bind(df_1, 'production_countries')\n",
    "df_1 = encode_and_bind(df_1, 'spoken_languages')"
   ]
  },
  {
   "cell_type": "code",
   "execution_count": 80,
   "metadata": {},
   "outputs": [],
   "source": [
    "df = df.apply(pd.to_numeric, errors='coerce').dropna()\n",
    "df_1 = df_1.apply(pd.to_numeric, errors='coerce').dropna()"
   ]
  },
  {
   "cell_type": "code",
   "execution_count": 106,
   "metadata": {},
   "outputs": [
    {
     "data": {
      "text/html": [
       "<div>\n",
       "<style scoped>\n",
       "    .dataframe tbody tr th:only-of-type {\n",
       "        vertical-align: middle;\n",
       "    }\n",
       "\n",
       "    .dataframe tbody tr th {\n",
       "        vertical-align: top;\n",
       "    }\n",
       "\n",
       "    .dataframe thead th {\n",
       "        text-align: right;\n",
       "    }\n",
       "</style>\n",
       "<table border=\"1\" class=\"dataframe\">\n",
       "  <thead>\n",
       "    <tr style=\"text-align: right;\">\n",
       "      <th></th>\n",
       "      <th>budget</th>\n",
       "      <th>popularity</th>\n",
       "      <th>revenue</th>\n",
       "      <th>runtime</th>\n",
       "      <th>vote_average</th>\n",
       "      <th>vote_count</th>\n",
       "      <th>Action</th>\n",
       "      <th>Adventure</th>\n",
       "      <th>Animation</th>\n",
       "      <th>Comedy</th>\n",
       "      <th>...</th>\n",
       "      <th>বাংলা</th>\n",
       "      <th>ਪੰਜਾਬੀ</th>\n",
       "      <th>தமிழ்</th>\n",
       "      <th>తెలుగు</th>\n",
       "      <th>ภาษาไทย</th>\n",
       "      <th>ქართული</th>\n",
       "      <th>广州话 / 廣州話</th>\n",
       "      <th>日本語</th>\n",
       "      <th>普通话</th>\n",
       "      <th>한국어/조선말</th>\n",
       "    </tr>\n",
       "  </thead>\n",
       "  <tbody>\n",
       "    <tr>\n",
       "      <th>0</th>\n",
       "      <td>30000000</td>\n",
       "      <td>21.946943</td>\n",
       "      <td>373554033.0</td>\n",
       "      <td>81.0</td>\n",
       "      <td>7.7</td>\n",
       "      <td>5415.0</td>\n",
       "      <td>0</td>\n",
       "      <td>0</td>\n",
       "      <td>1</td>\n",
       "      <td>1</td>\n",
       "      <td>...</td>\n",
       "      <td>0</td>\n",
       "      <td>0</td>\n",
       "      <td>0</td>\n",
       "      <td>0</td>\n",
       "      <td>0</td>\n",
       "      <td>0</td>\n",
       "      <td>0</td>\n",
       "      <td>0</td>\n",
       "      <td>0</td>\n",
       "      <td>0</td>\n",
       "    </tr>\n",
       "    <tr>\n",
       "      <th>1</th>\n",
       "      <td>65000000</td>\n",
       "      <td>17.015539</td>\n",
       "      <td>262797249.0</td>\n",
       "      <td>104.0</td>\n",
       "      <td>6.9</td>\n",
       "      <td>2413.0</td>\n",
       "      <td>0</td>\n",
       "      <td>1</td>\n",
       "      <td>0</td>\n",
       "      <td>0</td>\n",
       "      <td>...</td>\n",
       "      <td>0</td>\n",
       "      <td>0</td>\n",
       "      <td>0</td>\n",
       "      <td>0</td>\n",
       "      <td>0</td>\n",
       "      <td>0</td>\n",
       "      <td>0</td>\n",
       "      <td>0</td>\n",
       "      <td>0</td>\n",
       "      <td>0</td>\n",
       "    </tr>\n",
       "    <tr>\n",
       "      <th>3</th>\n",
       "      <td>16000000</td>\n",
       "      <td>3.859495</td>\n",
       "      <td>81452156.0</td>\n",
       "      <td>127.0</td>\n",
       "      <td>6.1</td>\n",
       "      <td>34.0</td>\n",
       "      <td>0</td>\n",
       "      <td>0</td>\n",
       "      <td>0</td>\n",
       "      <td>1</td>\n",
       "      <td>...</td>\n",
       "      <td>0</td>\n",
       "      <td>0</td>\n",
       "      <td>0</td>\n",
       "      <td>0</td>\n",
       "      <td>0</td>\n",
       "      <td>0</td>\n",
       "      <td>0</td>\n",
       "      <td>0</td>\n",
       "      <td>0</td>\n",
       "      <td>0</td>\n",
       "    </tr>\n",
       "    <tr>\n",
       "      <th>5</th>\n",
       "      <td>60000000</td>\n",
       "      <td>17.924927</td>\n",
       "      <td>187436818.0</td>\n",
       "      <td>170.0</td>\n",
       "      <td>7.7</td>\n",
       "      <td>1886.0</td>\n",
       "      <td>1</td>\n",
       "      <td>0</td>\n",
       "      <td>0</td>\n",
       "      <td>0</td>\n",
       "      <td>...</td>\n",
       "      <td>0</td>\n",
       "      <td>0</td>\n",
       "      <td>0</td>\n",
       "      <td>0</td>\n",
       "      <td>0</td>\n",
       "      <td>0</td>\n",
       "      <td>0</td>\n",
       "      <td>0</td>\n",
       "      <td>0</td>\n",
       "      <td>0</td>\n",
       "    </tr>\n",
       "    <tr>\n",
       "      <th>8</th>\n",
       "      <td>35000000</td>\n",
       "      <td>5.231580</td>\n",
       "      <td>64350171.0</td>\n",
       "      <td>106.0</td>\n",
       "      <td>5.5</td>\n",
       "      <td>174.0</td>\n",
       "      <td>1</td>\n",
       "      <td>1</td>\n",
       "      <td>0</td>\n",
       "      <td>0</td>\n",
       "      <td>...</td>\n",
       "      <td>0</td>\n",
       "      <td>0</td>\n",
       "      <td>0</td>\n",
       "      <td>0</td>\n",
       "      <td>0</td>\n",
       "      <td>0</td>\n",
       "      <td>0</td>\n",
       "      <td>0</td>\n",
       "      <td>0</td>\n",
       "      <td>0</td>\n",
       "    </tr>\n",
       "    <tr>\n",
       "      <th>...</th>\n",
       "      <td>...</td>\n",
       "      <td>...</td>\n",
       "      <td>...</td>\n",
       "      <td>...</td>\n",
       "      <td>...</td>\n",
       "      <td>...</td>\n",
       "      <td>...</td>\n",
       "      <td>...</td>\n",
       "      <td>...</td>\n",
       "      <td>...</td>\n",
       "      <td>...</td>\n",
       "      <td>...</td>\n",
       "      <td>...</td>\n",
       "      <td>...</td>\n",
       "      <td>...</td>\n",
       "      <td>...</td>\n",
       "      <td>...</td>\n",
       "      <td>...</td>\n",
       "      <td>...</td>\n",
       "      <td>...</td>\n",
       "      <td>...</td>\n",
       "    </tr>\n",
       "    <tr>\n",
       "      <th>45014</th>\n",
       "      <td>60000000</td>\n",
       "      <td>50.903593</td>\n",
       "      <td>71000000.0</td>\n",
       "      <td>95.0</td>\n",
       "      <td>5.7</td>\n",
       "      <td>688.0</td>\n",
       "      <td>1</td>\n",
       "      <td>0</td>\n",
       "      <td>0</td>\n",
       "      <td>0</td>\n",
       "      <td>...</td>\n",
       "      <td>0</td>\n",
       "      <td>0</td>\n",
       "      <td>0</td>\n",
       "      <td>0</td>\n",
       "      <td>0</td>\n",
       "      <td>0</td>\n",
       "      <td>0</td>\n",
       "      <td>0</td>\n",
       "      <td>0</td>\n",
       "      <td>0</td>\n",
       "    </tr>\n",
       "    <tr>\n",
       "      <th>45139</th>\n",
       "      <td>50000000</td>\n",
       "      <td>33.694599</td>\n",
       "      <td>66913939.0</td>\n",
       "      <td>86.0</td>\n",
       "      <td>5.8</td>\n",
       "      <td>327.0</td>\n",
       "      <td>0</td>\n",
       "      <td>0</td>\n",
       "      <td>1</td>\n",
       "      <td>1</td>\n",
       "      <td>...</td>\n",
       "      <td>0</td>\n",
       "      <td>0</td>\n",
       "      <td>0</td>\n",
       "      <td>0</td>\n",
       "      <td>0</td>\n",
       "      <td>0</td>\n",
       "      <td>0</td>\n",
       "      <td>0</td>\n",
       "      <td>0</td>\n",
       "      <td>0</td>\n",
       "    </tr>\n",
       "    <tr>\n",
       "      <th>45167</th>\n",
       "      <td>11000000</td>\n",
       "      <td>40.796775</td>\n",
       "      <td>184770205.0</td>\n",
       "      <td>111.0</td>\n",
       "      <td>7.4</td>\n",
       "      <td>181.0</td>\n",
       "      <td>1</td>\n",
       "      <td>0</td>\n",
       "      <td>0</td>\n",
       "      <td>0</td>\n",
       "      <td>...</td>\n",
       "      <td>0</td>\n",
       "      <td>0</td>\n",
       "      <td>0</td>\n",
       "      <td>0</td>\n",
       "      <td>0</td>\n",
       "      <td>0</td>\n",
       "      <td>0</td>\n",
       "      <td>0</td>\n",
       "      <td>0</td>\n",
       "      <td>0</td>\n",
       "    </tr>\n",
       "    <tr>\n",
       "      <th>45250</th>\n",
       "      <td>12000000</td>\n",
       "      <td>1.323587</td>\n",
       "      <td>19000000.0</td>\n",
       "      <td>185.0</td>\n",
       "      <td>6.9</td>\n",
       "      <td>25.0</td>\n",
       "      <td>1</td>\n",
       "      <td>0</td>\n",
       "      <td>0</td>\n",
       "      <td>1</td>\n",
       "      <td>...</td>\n",
       "      <td>0</td>\n",
       "      <td>0</td>\n",
       "      <td>1</td>\n",
       "      <td>1</td>\n",
       "      <td>0</td>\n",
       "      <td>0</td>\n",
       "      <td>0</td>\n",
       "      <td>0</td>\n",
       "      <td>0</td>\n",
       "      <td>0</td>\n",
       "    </tr>\n",
       "    <tr>\n",
       "      <th>45412</th>\n",
       "      <td>2000000</td>\n",
       "      <td>0.121844</td>\n",
       "      <td>1268793.0</td>\n",
       "      <td>107.0</td>\n",
       "      <td>4.0</td>\n",
       "      <td>3.0</td>\n",
       "      <td>0</td>\n",
       "      <td>0</td>\n",
       "      <td>0</td>\n",
       "      <td>0</td>\n",
       "      <td>...</td>\n",
       "      <td>0</td>\n",
       "      <td>0</td>\n",
       "      <td>0</td>\n",
       "      <td>0</td>\n",
       "      <td>0</td>\n",
       "      <td>0</td>\n",
       "      <td>0</td>\n",
       "      <td>0</td>\n",
       "      <td>0</td>\n",
       "      <td>0</td>\n",
       "    </tr>\n",
       "  </tbody>\n",
       "</table>\n",
       "<p>5169 rows × 5628 columns</p>\n",
       "</div>"
      ],
      "text/plain": [
       "         budget  popularity      revenue  runtime  vote_average  vote_count  \\\n",
       "0      30000000   21.946943  373554033.0     81.0           7.7      5415.0   \n",
       "1      65000000   17.015539  262797249.0    104.0           6.9      2413.0   \n",
       "3      16000000    3.859495   81452156.0    127.0           6.1        34.0   \n",
       "5      60000000   17.924927  187436818.0    170.0           7.7      1886.0   \n",
       "8      35000000    5.231580   64350171.0    106.0           5.5       174.0   \n",
       "...         ...         ...          ...      ...           ...         ...   \n",
       "45014  60000000   50.903593   71000000.0     95.0           5.7       688.0   \n",
       "45139  50000000   33.694599   66913939.0     86.0           5.8       327.0   \n",
       "45167  11000000   40.796775  184770205.0    111.0           7.4       181.0   \n",
       "45250  12000000    1.323587   19000000.0    185.0           6.9        25.0   \n",
       "45412   2000000    0.121844    1268793.0    107.0           4.0         3.0   \n",
       "\n",
       "       Action  Adventure  Animation  Comedy  ...  বাংলা  ਪੰਜਾਬੀ  தமிழ்  \\\n",
       "0           0          0          1       1  ...      0       0      0   \n",
       "1           0          1          0       0  ...      0       0      0   \n",
       "3           0          0          0       1  ...      0       0      0   \n",
       "5           1          0          0       0  ...      0       0      0   \n",
       "8           1          1          0       0  ...      0       0      0   \n",
       "...       ...        ...        ...     ...  ...    ...     ...    ...   \n",
       "45014       1          0          0       0  ...      0       0      0   \n",
       "45139       0          0          1       1  ...      0       0      0   \n",
       "45167       1          0          0       0  ...      0       0      0   \n",
       "45250       1          0          0       1  ...      0       0      1   \n",
       "45412       0          0          0       0  ...      0       0      0   \n",
       "\n",
       "       తెలుగు  ภาษาไทย  ქართული  广州话 / 廣州話  日本語  普通话  한국어/조선말  \n",
       "0           0        0        0          0    0    0        0  \n",
       "1           0        0        0          0    0    0        0  \n",
       "3           0        0        0          0    0    0        0  \n",
       "5           0        0        0          0    0    0        0  \n",
       "8           0        0        0          0    0    0        0  \n",
       "...       ...      ...      ...        ...  ...  ...      ...  \n",
       "45014       0        0        0          0    0    0        0  \n",
       "45139       0        0        0          0    0    0        0  \n",
       "45167       0        0        0          0    0    0        0  \n",
       "45250       1        0        0          0    0    0        0  \n",
       "45412       0        0        0          0    0    0        0  \n",
       "\n",
       "[5169 rows x 5628 columns]"
      ]
     },
     "execution_count": 106,
     "metadata": {},
     "output_type": "execute_result"
    }
   ],
   "source": [
    "df"
   ]
  },
  {
   "cell_type": "code",
   "execution_count": 107,
   "metadata": {},
   "outputs": [
    {
     "data": {
      "text/html": [
       "<div>\n",
       "<style scoped>\n",
       "    .dataframe tbody tr th:only-of-type {\n",
       "        vertical-align: middle;\n",
       "    }\n",
       "\n",
       "    .dataframe tbody tr th {\n",
       "        vertical-align: top;\n",
       "    }\n",
       "\n",
       "    .dataframe thead th {\n",
       "        text-align: right;\n",
       "    }\n",
       "</style>\n",
       "<table border=\"1\" class=\"dataframe\">\n",
       "  <thead>\n",
       "    <tr style=\"text-align: right;\">\n",
       "      <th></th>\n",
       "      <th>budget</th>\n",
       "      <th>popularity</th>\n",
       "      <th>revenue</th>\n",
       "      <th>runtime</th>\n",
       "      <th>vote_average</th>\n",
       "      <th>vote_count</th>\n",
       "      <th>Action</th>\n",
       "      <th>Adventure</th>\n",
       "      <th>Animation</th>\n",
       "      <th>Comedy</th>\n",
       "      <th>...</th>\n",
       "      <th>தமிழ்</th>\n",
       "      <th>తెలుగు</th>\n",
       "      <th>ภาษาไทย</th>\n",
       "      <th>ქართული</th>\n",
       "      <th>广州话 / 廣州話</th>\n",
       "      <th>日本語</th>\n",
       "      <th>普通话</th>\n",
       "      <th>한국어/조선말</th>\n",
       "      <th>success_vote</th>\n",
       "      <th>success_revenue</th>\n",
       "    </tr>\n",
       "  </thead>\n",
       "  <tbody>\n",
       "    <tr>\n",
       "      <th>0</th>\n",
       "      <td>30000000</td>\n",
       "      <td>21.946943</td>\n",
       "      <td>373554033.0</td>\n",
       "      <td>81.0</td>\n",
       "      <td>7.7</td>\n",
       "      <td>5415.0</td>\n",
       "      <td>0</td>\n",
       "      <td>0</td>\n",
       "      <td>1</td>\n",
       "      <td>1</td>\n",
       "      <td>...</td>\n",
       "      <td>0</td>\n",
       "      <td>0</td>\n",
       "      <td>0</td>\n",
       "      <td>0</td>\n",
       "      <td>0</td>\n",
       "      <td>0</td>\n",
       "      <td>0</td>\n",
       "      <td>0</td>\n",
       "      <td>1</td>\n",
       "      <td>1</td>\n",
       "    </tr>\n",
       "    <tr>\n",
       "      <th>1</th>\n",
       "      <td>65000000</td>\n",
       "      <td>17.015539</td>\n",
       "      <td>262797249.0</td>\n",
       "      <td>104.0</td>\n",
       "      <td>6.9</td>\n",
       "      <td>2413.0</td>\n",
       "      <td>0</td>\n",
       "      <td>1</td>\n",
       "      <td>0</td>\n",
       "      <td>0</td>\n",
       "      <td>...</td>\n",
       "      <td>0</td>\n",
       "      <td>0</td>\n",
       "      <td>0</td>\n",
       "      <td>0</td>\n",
       "      <td>0</td>\n",
       "      <td>0</td>\n",
       "      <td>0</td>\n",
       "      <td>0</td>\n",
       "      <td>0</td>\n",
       "      <td>1</td>\n",
       "    </tr>\n",
       "    <tr>\n",
       "      <th>3</th>\n",
       "      <td>16000000</td>\n",
       "      <td>3.859495</td>\n",
       "      <td>81452156.0</td>\n",
       "      <td>127.0</td>\n",
       "      <td>6.1</td>\n",
       "      <td>34.0</td>\n",
       "      <td>0</td>\n",
       "      <td>0</td>\n",
       "      <td>0</td>\n",
       "      <td>1</td>\n",
       "      <td>...</td>\n",
       "      <td>0</td>\n",
       "      <td>0</td>\n",
       "      <td>0</td>\n",
       "      <td>0</td>\n",
       "      <td>0</td>\n",
       "      <td>0</td>\n",
       "      <td>0</td>\n",
       "      <td>0</td>\n",
       "      <td>0</td>\n",
       "      <td>0</td>\n",
       "    </tr>\n",
       "    <tr>\n",
       "      <th>5</th>\n",
       "      <td>60000000</td>\n",
       "      <td>17.924927</td>\n",
       "      <td>187436818.0</td>\n",
       "      <td>170.0</td>\n",
       "      <td>7.7</td>\n",
       "      <td>1886.0</td>\n",
       "      <td>1</td>\n",
       "      <td>0</td>\n",
       "      <td>0</td>\n",
       "      <td>0</td>\n",
       "      <td>...</td>\n",
       "      <td>0</td>\n",
       "      <td>0</td>\n",
       "      <td>0</td>\n",
       "      <td>0</td>\n",
       "      <td>0</td>\n",
       "      <td>0</td>\n",
       "      <td>0</td>\n",
       "      <td>0</td>\n",
       "      <td>1</td>\n",
       "      <td>1</td>\n",
       "    </tr>\n",
       "    <tr>\n",
       "      <th>8</th>\n",
       "      <td>35000000</td>\n",
       "      <td>5.231580</td>\n",
       "      <td>64350171.0</td>\n",
       "      <td>106.0</td>\n",
       "      <td>5.5</td>\n",
       "      <td>174.0</td>\n",
       "      <td>1</td>\n",
       "      <td>1</td>\n",
       "      <td>0</td>\n",
       "      <td>0</td>\n",
       "      <td>...</td>\n",
       "      <td>0</td>\n",
       "      <td>0</td>\n",
       "      <td>0</td>\n",
       "      <td>0</td>\n",
       "      <td>0</td>\n",
       "      <td>0</td>\n",
       "      <td>0</td>\n",
       "      <td>0</td>\n",
       "      <td>0</td>\n",
       "      <td>0</td>\n",
       "    </tr>\n",
       "    <tr>\n",
       "      <th>...</th>\n",
       "      <td>...</td>\n",
       "      <td>...</td>\n",
       "      <td>...</td>\n",
       "      <td>...</td>\n",
       "      <td>...</td>\n",
       "      <td>...</td>\n",
       "      <td>...</td>\n",
       "      <td>...</td>\n",
       "      <td>...</td>\n",
       "      <td>...</td>\n",
       "      <td>...</td>\n",
       "      <td>...</td>\n",
       "      <td>...</td>\n",
       "      <td>...</td>\n",
       "      <td>...</td>\n",
       "      <td>...</td>\n",
       "      <td>...</td>\n",
       "      <td>...</td>\n",
       "      <td>...</td>\n",
       "      <td>...</td>\n",
       "      <td>...</td>\n",
       "    </tr>\n",
       "    <tr>\n",
       "      <th>45014</th>\n",
       "      <td>60000000</td>\n",
       "      <td>50.903593</td>\n",
       "      <td>71000000.0</td>\n",
       "      <td>95.0</td>\n",
       "      <td>5.7</td>\n",
       "      <td>688.0</td>\n",
       "      <td>1</td>\n",
       "      <td>0</td>\n",
       "      <td>0</td>\n",
       "      <td>0</td>\n",
       "      <td>...</td>\n",
       "      <td>0</td>\n",
       "      <td>0</td>\n",
       "      <td>0</td>\n",
       "      <td>0</td>\n",
       "      <td>0</td>\n",
       "      <td>0</td>\n",
       "      <td>0</td>\n",
       "      <td>0</td>\n",
       "      <td>0</td>\n",
       "      <td>0</td>\n",
       "    </tr>\n",
       "    <tr>\n",
       "      <th>45139</th>\n",
       "      <td>50000000</td>\n",
       "      <td>33.694599</td>\n",
       "      <td>66913939.0</td>\n",
       "      <td>86.0</td>\n",
       "      <td>5.8</td>\n",
       "      <td>327.0</td>\n",
       "      <td>0</td>\n",
       "      <td>0</td>\n",
       "      <td>1</td>\n",
       "      <td>1</td>\n",
       "      <td>...</td>\n",
       "      <td>0</td>\n",
       "      <td>0</td>\n",
       "      <td>0</td>\n",
       "      <td>0</td>\n",
       "      <td>0</td>\n",
       "      <td>0</td>\n",
       "      <td>0</td>\n",
       "      <td>0</td>\n",
       "      <td>0</td>\n",
       "      <td>0</td>\n",
       "    </tr>\n",
       "    <tr>\n",
       "      <th>45167</th>\n",
       "      <td>11000000</td>\n",
       "      <td>40.796775</td>\n",
       "      <td>184770205.0</td>\n",
       "      <td>111.0</td>\n",
       "      <td>7.4</td>\n",
       "      <td>181.0</td>\n",
       "      <td>1</td>\n",
       "      <td>0</td>\n",
       "      <td>0</td>\n",
       "      <td>0</td>\n",
       "      <td>...</td>\n",
       "      <td>0</td>\n",
       "      <td>0</td>\n",
       "      <td>0</td>\n",
       "      <td>0</td>\n",
       "      <td>0</td>\n",
       "      <td>0</td>\n",
       "      <td>0</td>\n",
       "      <td>0</td>\n",
       "      <td>1</td>\n",
       "      <td>1</td>\n",
       "    </tr>\n",
       "    <tr>\n",
       "      <th>45250</th>\n",
       "      <td>12000000</td>\n",
       "      <td>1.323587</td>\n",
       "      <td>19000000.0</td>\n",
       "      <td>185.0</td>\n",
       "      <td>6.9</td>\n",
       "      <td>25.0</td>\n",
       "      <td>1</td>\n",
       "      <td>0</td>\n",
       "      <td>0</td>\n",
       "      <td>1</td>\n",
       "      <td>...</td>\n",
       "      <td>1</td>\n",
       "      <td>1</td>\n",
       "      <td>0</td>\n",
       "      <td>0</td>\n",
       "      <td>0</td>\n",
       "      <td>0</td>\n",
       "      <td>0</td>\n",
       "      <td>0</td>\n",
       "      <td>0</td>\n",
       "      <td>0</td>\n",
       "    </tr>\n",
       "    <tr>\n",
       "      <th>45412</th>\n",
       "      <td>2000000</td>\n",
       "      <td>0.121844</td>\n",
       "      <td>1268793.0</td>\n",
       "      <td>107.0</td>\n",
       "      <td>4.0</td>\n",
       "      <td>3.0</td>\n",
       "      <td>0</td>\n",
       "      <td>0</td>\n",
       "      <td>0</td>\n",
       "      <td>0</td>\n",
       "      <td>...</td>\n",
       "      <td>0</td>\n",
       "      <td>0</td>\n",
       "      <td>0</td>\n",
       "      <td>0</td>\n",
       "      <td>0</td>\n",
       "      <td>0</td>\n",
       "      <td>0</td>\n",
       "      <td>0</td>\n",
       "      <td>0</td>\n",
       "      <td>0</td>\n",
       "    </tr>\n",
       "  </tbody>\n",
       "</table>\n",
       "<p>5169 rows × 207 columns</p>\n",
       "</div>"
      ],
      "text/plain": [
       "         budget  popularity      revenue  runtime  vote_average  vote_count  \\\n",
       "0      30000000   21.946943  373554033.0     81.0           7.7      5415.0   \n",
       "1      65000000   17.015539  262797249.0    104.0           6.9      2413.0   \n",
       "3      16000000    3.859495   81452156.0    127.0           6.1        34.0   \n",
       "5      60000000   17.924927  187436818.0    170.0           7.7      1886.0   \n",
       "8      35000000    5.231580   64350171.0    106.0           5.5       174.0   \n",
       "...         ...         ...          ...      ...           ...         ...   \n",
       "45014  60000000   50.903593   71000000.0     95.0           5.7       688.0   \n",
       "45139  50000000   33.694599   66913939.0     86.0           5.8       327.0   \n",
       "45167  11000000   40.796775  184770205.0    111.0           7.4       181.0   \n",
       "45250  12000000    1.323587   19000000.0    185.0           6.9        25.0   \n",
       "45412   2000000    0.121844    1268793.0    107.0           4.0         3.0   \n",
       "\n",
       "       Action  Adventure  Animation  Comedy  ...  தமிழ்  తెలుగు  ภาษาไทย  \\\n",
       "0           0          0          1       1  ...      0       0        0   \n",
       "1           0          1          0       0  ...      0       0        0   \n",
       "3           0          0          0       1  ...      0       0        0   \n",
       "5           1          0          0       0  ...      0       0        0   \n",
       "8           1          1          0       0  ...      0       0        0   \n",
       "...       ...        ...        ...     ...  ...    ...     ...      ...   \n",
       "45014       1          0          0       0  ...      0       0        0   \n",
       "45139       0          0          1       1  ...      0       0        0   \n",
       "45167       1          0          0       0  ...      0       0        0   \n",
       "45250       1          0          0       1  ...      1       1        0   \n",
       "45412       0          0          0       0  ...      0       0        0   \n",
       "\n",
       "       ქართული  广州话 / 廣州話  日本語  普通话  한국어/조선말  success_vote  success_revenue  \n",
       "0            0          0    0    0        0             1                1  \n",
       "1            0          0    0    0        0             0                1  \n",
       "3            0          0    0    0        0             0                0  \n",
       "5            0          0    0    0        0             1                1  \n",
       "8            0          0    0    0        0             0                0  \n",
       "...        ...        ...  ...  ...      ...           ...              ...  \n",
       "45014        0          0    0    0        0             0                0  \n",
       "45139        0          0    0    0        0             0                0  \n",
       "45167        0          0    0    0        0             1                1  \n",
       "45250        0          0    0    0        0             0                0  \n",
       "45412        0          0    0    0        0             0                0  \n",
       "\n",
       "[5169 rows x 207 columns]"
      ]
     },
     "execution_count": 107,
     "metadata": {},
     "output_type": "execute_result"
    }
   ],
   "source": [
    "df_1"
   ]
  },
  {
   "cell_type": "markdown",
   "metadata": {},
   "source": [
    "## Linear Regression"
   ]
  },
  {
   "cell_type": "code",
   "execution_count": 81,
   "metadata": {},
   "outputs": [],
   "source": [
    "# Target and Features\n",
    "# use df_1: without production company\n",
    "X = df_1.drop(['revenue', 'vote_average'], axis=1)\n",
    "y_revenue = df_1['revenue']\n",
    "y_vote = df_1['vote_average']"
   ]
  },
  {
   "cell_type": "code",
   "execution_count": 82,
   "metadata": {},
   "outputs": [],
   "source": [
    "X_train, X_test, y_train_revenue, y_test_revenue = train_test_split(X, y_revenue, test_size=0.2, random_state=42)\n",
    "_, _, y_train_vote, y_test_vote = train_test_split(X, y_vote, test_size=0.2, random_state=42)"
   ]
  },
  {
   "cell_type": "code",
   "execution_count": 83,
   "metadata": {},
   "outputs": [
    {
     "name": "stdout",
     "output_type": "stream",
     "text": [
      "RMSE for revenue prediction: 84412942.31129745\n"
     ]
    }
   ],
   "source": [
    "# Linear Regression for revenue prediction\n",
    "lin_reg_revenue = LinearRegression()\n",
    "lin_reg_revenue.fit(X_train, y_train_revenue)\n",
    "y_pred_revenue = lin_reg_revenue.predict(X_test)\n",
    "print(f\"RMSE for revenue prediction: {np.sqrt(mean_squared_error(y_test_revenue, y_pred_revenue))}\")"
   ]
  },
  {
   "cell_type": "code",
   "execution_count": 84,
   "metadata": {},
   "outputs": [
    {
     "name": "stdout",
     "output_type": "stream",
     "text": [
      "RMSE for vote average prediction: 0.7056352715124519\n"
     ]
    }
   ],
   "source": [
    "# Linear Regression for vote average prediction\n",
    "lin_reg_vote = LinearRegression()\n",
    "lin_reg_vote.fit(X_train, y_train_vote)\n",
    "y_pred_vote = lin_reg_vote.predict(X_test)\n",
    "print(f\"RMSE for vote average prediction: {np.sqrt(mean_squared_error(y_test_vote, y_pred_vote))}\")"
   ]
  },
  {
   "cell_type": "markdown",
   "metadata": {},
   "source": [
    "## Logistic Regression"
   ]
  },
  {
   "cell_type": "code",
   "execution_count": 108,
   "metadata": {},
   "outputs": [],
   "source": [
    "df_1['success_vote'] = df_1['vote_average'].apply(lambda x: 1 if x > 7 else 0)\n",
    "df_1['success_revenue'] = df_1['revenue'].apply(lambda x: 1 if x > 130000000 else 0)"
   ]
  },
  {
   "cell_type": "code",
   "execution_count": 109,
   "metadata": {},
   "outputs": [],
   "source": [
    "y_success_vote = df_1['success_vote']\n",
    "y_success_revenue = df_1['success_revenue']"
   ]
  },
  {
   "cell_type": "code",
   "execution_count": 110,
   "metadata": {},
   "outputs": [],
   "source": [
    "X_train, X_test, y_train_success_vote, y_test_success_vote = train_test_split(X, y_success_vote, test_size=0.2, random_state=42)\n",
    "_, _, y_train_success_revenue, y_test_success_revenue = train_test_split(X, y_success_revenue, test_size=0.2, random_state=42)"
   ]
  },
  {
   "cell_type": "code",
   "execution_count": 111,
   "metadata": {},
   "outputs": [],
   "source": [
    "sc = StandardScaler()\n",
    "X_train_std = sc.fit_transform(X_train)\n",
    "X_test_std = sc.transform(X_test)"
   ]
  },
  {
   "cell_type": "code",
   "execution_count": 112,
   "metadata": {},
   "outputs": [],
   "source": [
    "log_reg = LogisticRegression(random_state=42)"
   ]
  },
  {
   "cell_type": "code",
   "execution_count": 113,
   "metadata": {},
   "outputs": [],
   "source": [
    "# Hyperparameters for Grid Search\n",
    "param_grid = {\n",
    "              'penalty': ['l1', 'l2'],\n",
    "              'C' : np.logspace(-4, 4, 20),\n",
    "              'solver': ['liblinear']\n",
    "              }"
   ]
  },
  {
   "cell_type": "code",
   "execution_count": 114,
   "metadata": {},
   "outputs": [],
   "source": [
    "# Grid Search Cross Validation\n",
    "clf = GridSearchCV(log_reg, param_grid = param_grid, cv = 5)"
   ]
  },
  {
   "cell_type": "code",
   "execution_count": 115,
   "metadata": {},
   "outputs": [
    {
     "name": "stdout",
     "output_type": "stream",
     "text": [
      "Best Parameters:  {'C': 0.08858667904100823, 'penalty': 'l1', 'solver': 'liblinear'}\n"
     ]
    }
   ],
   "source": [
    "# Fit the model\n",
    "best_clf_vote = clf.fit(X_train_std, y_train_success_vote)\n",
    "\n",
    "# show Best Parameters\n",
    "print(\"Best Parameters: \", best_clf_vote.best_params_)"
   ]
  },
  {
   "cell_type": "code",
   "execution_count": 116,
   "metadata": {},
   "outputs": [
    {
     "name": "stdout",
     "output_type": "stream",
     "text": [
      "Best Parameters:  {'C': 0.03359818286283781, 'penalty': 'l1', 'solver': 'liblinear'}\n"
     ]
    }
   ],
   "source": [
    "# Fit the model\n",
    "best_clf_revenue = clf.fit(X_train_std, y_train_success_revenue)\n",
    "\n",
    "# show Best Parameters\n",
    "print(\"Best Parameters: \", best_clf_revenue.best_params_)"
   ]
  },
  {
   "cell_type": "code",
   "execution_count": 117,
   "metadata": {},
   "outputs": [],
   "source": [
    "y_pred_success_vote = best_clf_vote.predict(X_test_std)\n",
    "y_pred_success_revenue = best_clf_revenue.predict(X_test_std)"
   ]
  },
  {
   "cell_type": "code",
   "execution_count": 146,
   "metadata": {},
   "outputs": [
    {
     "name": "stdout",
     "output_type": "stream",
     "text": [
      "Logistic Regression Accuracy(Vote):  0.7746615087040619\n"
     ]
    }
   ],
   "source": [
    "print(\"Logistic Regression Accuracy(Vote): \", accuracy_score(y_test_success_vote, y_pred_success_vote))"
   ]
  },
  {
   "cell_type": "code",
   "execution_count": 147,
   "metadata": {},
   "outputs": [
    {
     "name": "stdout",
     "output_type": "stream",
     "text": [
      "Logistic Regression Accuracy(Revenue):  0.9003868471953579\n"
     ]
    }
   ],
   "source": [
    "print(\"Logistic Regression Accuracy(Revenue): \", accuracy_score(y_test_success_revenue, y_pred_success_revenue))"
   ]
  },
  {
   "cell_type": "markdown",
   "metadata": {},
   "source": [
    "## Random Forest Classifier"
   ]
  },
  {
   "cell_type": "code",
   "execution_count": 120,
   "metadata": {},
   "outputs": [],
   "source": [
    "rf = RandomForestClassifier(n_estimators=100, random_state=42)"
   ]
  },
  {
   "cell_type": "markdown",
   "metadata": {},
   "source": [
    "**-Dataset with production company**"
   ]
  },
  {
   "cell_type": "code",
   "execution_count": 128,
   "metadata": {},
   "outputs": [],
   "source": [
    "df['success_vote'] = df['vote_average'].apply(lambda x: 1 if x > 7 else 0)\n",
    "df['success_revenue'] = df['revenue'].apply(lambda x: 1 if x > 130000000 else 0)"
   ]
  },
  {
   "cell_type": "code",
   "execution_count": 129,
   "metadata": {},
   "outputs": [],
   "source": [
    "y_success_vote_1 = df['success_vote']\n",
    "y_success_revenue_1 = df['success_revenue']"
   ]
  },
  {
   "cell_type": "code",
   "execution_count": 130,
   "metadata": {},
   "outputs": [],
   "source": [
    "X_train, X_test, y_train_success_vote_1, y_test_success_vote_1 = train_test_split(X, y_success_vote_1, test_size=0.2, random_state=42)\n",
    "_, _, y_train_success_revenue_1, y_test_success_revenue_1 = train_test_split(X, y_success_revenue_1, test_size=0.2, random_state=42)"
   ]
  },
  {
   "cell_type": "code",
   "execution_count": 131,
   "metadata": {},
   "outputs": [],
   "source": [
    "# Define a parameter grid\n",
    "param_grid_rf = {\n",
    "    'n_estimators': [100, 200, 500],\n",
    "    'max_features': ['auto', 'sqrt', 'log2'],\n",
    "    'max_depth' : [4,5,6,7,8],\n",
    "    'criterion' :['gini', 'entropy']\n",
    "}\n",
    "\n",
    "# Grid Search Cross Validation\n",
    "clf_rf = GridSearchCV(estimator=rf, param_grid=param_grid_rf, cv= 5)\n"
   ]
  },
  {
   "cell_type": "markdown",
   "metadata": {},
   "source": [
    "**- With production company**"
   ]
  },
  {
   "cell_type": "code",
   "execution_count": 136,
   "metadata": {},
   "outputs": [
    {
     "name": "stdout",
     "output_type": "stream",
     "text": [
      "Best Parameters:  {'criterion': 'gini', 'max_depth': 8, 'max_features': 'auto', 'n_estimators': 100}\n"
     ]
    }
   ],
   "source": [
    "# Fit the model\n",
    "best_clf_vote_rf_1 = clf_rf.fit(X_train, y_train_success_vote_1)\n",
    "\n",
    "# Print Best Parameters\n",
    "print(\"Best Parameters: \", best_clf_vote_rf_1.best_params_)"
   ]
  },
  {
   "cell_type": "code",
   "execution_count": 137,
   "metadata": {},
   "outputs": [
    {
     "name": "stdout",
     "output_type": "stream",
     "text": [
      "Best Parameters:  {'criterion': 'gini', 'max_depth': 8, 'max_features': 'auto', 'n_estimators': 100}\n"
     ]
    }
   ],
   "source": [
    "# Fit the model\n",
    "best_clf_revenue_rf_1 = clf_rf.fit(X_train, y_train_success_revenue_1)\n",
    "\n",
    "# Print Best Parameters\n",
    "print(\"Best Parameters: \", best_clf_revenue_rf_1.best_params_)"
   ]
  },
  {
   "cell_type": "code",
   "execution_count": 138,
   "metadata": {},
   "outputs": [],
   "source": [
    "y_predvote_rf_1 = best_clf_vote_rf_1.predict(X_test)\n",
    "y_predrevenue_rf_1 = best_clf_revenue_rf_1.predict(X_test)"
   ]
  },
  {
   "cell_type": "code",
   "execution_count": 139,
   "metadata": {},
   "outputs": [
    {
     "name": "stdout",
     "output_type": "stream",
     "text": [
      "Random Forest Classifier Accuracy(Vote):  0.7833655705996132\n"
     ]
    }
   ],
   "source": [
    "# Evaluate the model\n",
    "print(\"Random Forest Classifier Accuracy(Vote): \", accuracy_score(y_test_success_vote_1, y_predvote_rf_1))"
   ]
  },
  {
   "cell_type": "code",
   "execution_count": 140,
   "metadata": {},
   "outputs": [
    {
     "name": "stdout",
     "output_type": "stream",
     "text": [
      "Random Forest Classifier Accuracy(Revenue):  0.8878143133462283\n"
     ]
    }
   ],
   "source": [
    "# Evaluate the model\n",
    "print(\"Random Forest Classifier Accuracy(Revenue): \", accuracy_score(y_test_success_revenue_1, y_predrevenue_rf_1))"
   ]
  },
  {
   "cell_type": "markdown",
   "metadata": {},
   "source": [
    "**- Without production company**"
   ]
  },
  {
   "cell_type": "code",
   "execution_count": 141,
   "metadata": {},
   "outputs": [
    {
     "name": "stdout",
     "output_type": "stream",
     "text": [
      "Best Parameters:  {'criterion': 'gini', 'max_depth': 4, 'max_features': 'auto', 'n_estimators': 100}\n"
     ]
    }
   ],
   "source": [
    "# Fit the model\n",
    "best_clf_vote_rf = clf_rf.fit(X_train, y_train_success_vote)\n",
    "\n",
    "# Print Best Parameters\n",
    "print(\"Best Parameters: \", best_clf_rf.best_params_)"
   ]
  },
  {
   "cell_type": "code",
   "execution_count": 142,
   "metadata": {},
   "outputs": [
    {
     "name": "stdout",
     "output_type": "stream",
     "text": [
      "Best Parameters:  {'criterion': 'gini', 'max_depth': 8, 'max_features': 'auto', 'n_estimators': 100}\n"
     ]
    }
   ],
   "source": [
    "# Fit the model\n",
    "best_clf_revenue_rf = clf_rf.fit(X_train, y_train_success_revenue)\n",
    "\n",
    "# Print Best Parameters\n",
    "print(\"Best Parameters: \", best_clf_revenue_rf.best_params_)"
   ]
  },
  {
   "cell_type": "code",
   "execution_count": 143,
   "metadata": {},
   "outputs": [],
   "source": [
    "y_predvote_rf = best_clf_vote_rf.predict(X_test)\n",
    "y_predrevenue_rf = best_clf_revenue_rf.predict(X_test)"
   ]
  },
  {
   "cell_type": "code",
   "execution_count": 144,
   "metadata": {},
   "outputs": [
    {
     "name": "stdout",
     "output_type": "stream",
     "text": [
      "Random Forest Classifier Accuracy(Vote):  0.8249516441005803\n"
     ]
    }
   ],
   "source": [
    "# Evaluate the model\n",
    "print(\"Random Forest Classifier Accuracy(Vote): \", accuracy_score(y_test_success_vote, y_pred_rf))"
   ]
  },
  {
   "cell_type": "code",
   "execution_count": 145,
   "metadata": {},
   "outputs": [
    {
     "name": "stdout",
     "output_type": "stream",
     "text": [
      "Random Forest Classifier Accuracy(Revenue):  0.8878143133462283\n"
     ]
    }
   ],
   "source": [
    "# Evaluate the model\n",
    "print(\"Random Forest Classifier Accuracy(Revenue): \", accuracy_score(y_test_success_revenue, y_predrevenue_rf))"
   ]
  },
  {
   "cell_type": "markdown",
   "metadata": {},
   "source": [
    "# Ethics & Privacy"
   ]
  },
  {
   "cell_type": "markdown",
   "metadata": {},
   "source": [
    "Personal Information Privacy: The dataset contains the names of people involved in the film industry, such as actors, directors, or production staff. We will anonymize the personal information in the data, i.e. remove relevant variables.\n",
    "\n",
    "Fairness in revenue forecasting: This dataset will be used for forecasting, so inadvertent unfairness may arise. For example, certain genre, production company, or country of origin data may be favored in revenue projections, leading to potential discrepancies or unequal opportunities.\n",
    "\n",
    "Unintended analysis and discrimination: When analyzing datasets, there is a risk of unintended analysis and discrimination. Models or algorithms trained on data may inadvertently learn to bias certain groups based on factors such as language, genre, or country of production."
   ]
  },
  {
   "cell_type": "markdown",
   "metadata": {},
   "source": [
    "# Team Expectations "
   ]
  },
  {
   "cell_type": "markdown",
   "metadata": {},
   "source": [
    "* *Communicate through Discord and regularly schedule weekly remote meetings*\n",
    "* *Major project decisions, review of work done during zoom or discord meetings2*\n",
    "* *Work is to be divided equally, individually completed before next meeting*"
   ]
  },
  {
   "cell_type": "markdown",
   "metadata": {},
   "source": [
    "# Project Timeline Proposal"
   ]
  },
  {
   "cell_type": "markdown",
   "metadata": {},
   "source": [
    "| Meeting Date  | Meeting Time| Completed Before Meeting  | Discuss at Meeting |\n",
    "|---|---|---|---|\n",
    "| 5/17  |  4:30 |  Each part of the project proposal  | Finalize proposal and push to GitHub | \n",
    "| 5/23  |  6:15 |  Read the proposals | Complete peer review, discuss parts of the checkpoint and assign | \n",
    "| 5/30  | 6:15  | Assigned checkpoint parts  | Finalize the checkpoint and push to GitHub. Talk about what is left for final project and assign parts |\n",
    "| 6/8  | 6:15  | Make good progress/finish final project parts | Discuss what is completed and make edits. |\n",
    "| 6/13  | 6:15  | Finish assigned final parts | Finalize and push to GitHub |"
   ]
  },
  {
   "cell_type": "markdown",
   "metadata": {},
   "source": [
    "# Footnotes\n",
    "<a name=\"Eliashberg\"></a>1.[^](#Eliashberg):Eliashberg, J., Elberse, A., & Leenders, M. A. (2013). The Motion Picture Industry: Critical Issues in Practice, Current Research, and New Research Directions:https://repository.upenn.edu/cgi/viewcontent.cgi?article=1179&context=oid_papers<br> \n",
    "\n",
    "<a name=\"Wallace\"></a>2.[^](#Wallace):Wallace, W. T., Seigerman, A., & Holbrook, M. B. (1993). The Role of Actors and Actresses in the Success of Films: How Much Is a Movie Star Worth?https://link.springer.com/article/10.1007/BF00820765<br>\n",
    "\n",
    "<a name=\"De Vany\"></a>3.[^](#De):De Vany, A., & Walls, W. D. (1996). Bose–Einstein dynamics and adaptive contracting in the motion picture industry.https://econpapers.repec.org/article/ecjeconjl/v_3a106_3ay_3a1996_3ai_3a439_3ap_3a1493-1514.htm<br>\n"
   ]
  }
 ],
 "metadata": {
  "kernelspec": {
   "display_name": "Python 3 (ipykernel)",
   "language": "python",
   "name": "python3"
  },
  "language_info": {
   "codemirror_mode": {
    "name": "ipython",
    "version": 3
   },
   "file_extension": ".py",
   "mimetype": "text/x-python",
   "name": "python",
   "nbconvert_exporter": "python",
   "pygments_lexer": "ipython3",
   "version": "3.9.13"
  }
 },
 "nbformat": 4,
 "nbformat_minor": 2
}
