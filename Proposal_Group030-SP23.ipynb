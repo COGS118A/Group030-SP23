{
 "cells": [
  {
   "cell_type": "markdown",
   "metadata": {},
   "source": [
    "# COGS 118A- Project Proposal"
   ]
  },
  {
   "cell_type": "markdown",
   "metadata": {},
   "source": [
    "# Names\n",
    "- Banso Nguyen\n",
    "- Kirsten Nino\n",
    "- Rufeng Chen\n",
    "- Shan He"
   ]
  },
  {
   "cell_type": "markdown",
   "metadata": {},
   "source": [
    "# Abstract \n",
    "\n",
    "Our goal is to find out the factors that influence movie ratings and use those factors to try to predict the performance of upcoming movies. The dataset we used contains various variables such as production, release date, director and other related information about 119,000 movies and TV shows released around the world. We will be performing two separate linear regressions once we have cleaned our dataset. In order to measure the performance of the movies, we have decided to use the following variables: revenue and vote average (audience score). "
   ]
  },
  {
   "cell_type": "markdown",
   "metadata": {},
   "source": [
    "# Background\n",
    "\n",
    "There are many factors that can influence how a movie is rated, like its budget, director, actors/actresses, its genre, and etc.. How these factors influence the movie ratings has been an area of interest for researchers.\n",
    "\n",
    "The budget of a movie is generally thought to be the main determinant of its rating. Higher budgets often lead to higher production quality, top-notch actors, and more extensive advertisements. These could potentially draw larger audiences and better reviews. A 2013 study by Eliashberg, Elberse, and Leenders found that higher budgets often leads to more promising film projects.<a name=\"Eliashberg\"></a>[<sup>[1]</sup>](#Eliashberg)\n",
    "\n",
    "People often anticipate movies by their favorite directors, and directors who've produced great movies in the past often receive higher ratings for their new works. Wallace, Seigerman, and Holbrook found that directors with previous successes are more likely to have higher box-office sales as well as better reviews.<a name=\"Wallace\"></a>[<sup>[2]</sup>](#Wallace)\n",
    "\n",
    "Moreover, genre is another big contributing factor to movie ratings. Some genres just seem to resonate more with audiences and critics. De Vany and Walls' study showed that action flicks and dramas usually get higher ratings than comedies or horror movies.<a name=\"De Vany\"></a>[<sup>[3]</sup>](#De) \n",
    "\t\n",
    "There are also many more factors that can alter the performance of a movie, such as the movie's casts, release date, and its marketing strategies. We will find out more about what factors influence movie ratings and predict the movie’s ratings based on those factors.\n",
    "\n"
   ]
  },
  {
   "cell_type": "markdown",
   "metadata": {},
   "source": [
    "# Problem Statement\n",
    "\n",
    "With so many movies being produced a year, it is hard to know which ones are worth your attention and which ones aren’t. Perhaps after some time, critics and audiences in general will have a clear opinion on a film after it is released. But what if you want to be able to know how a movie will perform without waiting for other’s opinions? Many factors could contribute to how a movie performs and how it is rated, such as its budget, director, and genre. We want to be able to find the most important predictors that contribute to a movie’s success and predict how an upcoming, unreleased movie will do. "
   ]
  },
  {
   "cell_type": "markdown",
   "metadata": {},
   "source": [
    "# Data\n",
    "Movie data (100K+ titles with budget, credits)\n",
    "https://www.kaggle.com/datasets/kakarlaramcharan/tmdb-data-0920\n",
    "\n",
    "The dataset used for this project is obtained from TMDB (The Movie Database), a community-built movie and TV database. The dataset contains information on more than 119,000 movies and TV shows released internationally. The dataset is in CSV format and is pipe-delimited.\n",
    "\n",
    "Size of the Dataset:\n",
    "The dataset consists of approximately 119,000 records and has 27 features (variables) that provide comprehensive information about each movie or TV show.\n",
    "\n",
    "Observation:\n",
    "Each observation in the dataset represents a movie or TV show. It contains various details about the production, release, cast, crew, and other relevant information associated with the title.\n",
    "\n",
    "Critical Variables:\n",
    "Some critical variables in the dataset include:\n",
    "\n",
    "|Variable|Description|\n",
    "|---|---|\n",
    "|belongs_to_collection | Indicates whether the movie belongs to a collection, with the collection specified if it exists. |\n",
    "|budget | Represents the budget of the movie. |\n",
    "|original_language | Denotes the original language in which the movie is produced. |\n",
    "|original_title | Specifies the original title of the movie. |\n",
    "|overview | Provides a summary or synopsis of the movie. |\n",
    "|popularity | Represents the popularity index of the movie. |\n",
    "|production_companies | Lists the companies involved in producing the movie. |\n",
    "|production_countries | Indicates the country where the movie is produced. |\n",
    "|release_date | Represents the release date of the movie. |\n",
    "|revenue | Represents the revenue generated by the movie. If missing, it is represented by 0. |\n",
    "|runtime | Denotes the duration of the movie in minutes. |\n",
    "|status | Indicates whether the movie is released or not. |\n",
    "|tagline | Provides the tagline associated with the movie. |\n",
    "|title | Specifies the English alias title of the movie. |\n",
    "|vote_average | Represents the average vote rating given by viewers. |\n",
    "|overview | Represents the synopsis of the movie. |\n",
    "|cast | Represents the cast credits (Actors). |\n",
    "|directors | Represents the director credits. |\n",
    "\n",
    "Handling, Transformations, Cleaning:\n",
    "* *Handling Missing Values: Check for missing values in the budget, popularity, and income variables. We will use imputation (replace missing values with mean, median or mode) or remove observations with missing values.*\n",
    "* *Handling Categorical Variables: Since the dataset contains categorical variables such as original_language or production_companies, we need to encode them using one-hot encoding technique to convert them into a suitable numerical representation.*\n",
    "* *Data type conversion: Ensure budget, popularity, and revenue variables are in numeric format. Convert them from string or object data types to numeric data types (such as integers or floating-point numbers) to perform mathematical operations and analysis on them.*\n",
    "* *Scaling or normalization: since we may be using regression models or clustering algorithms which are sensitive to the extent of the data, we need to normalize the budget, popularity and income variables using z-score normalization or min-max scaling , making them comparable in size.*\n",
    "* *Remove irrelevant features: Identify any irrelevant or redundant features that do not contribute significantly to the analysis or prediction. Removing these features simplifies the dataset and reduces noise.*\n",
    "* *Data Splitting: Since we plan to build a predictive model of revenue or popularity, we need to split the dataset into training and testing sets to evaluate the performance of the model. This allows us to train the model on partial data and evaluate its accuracy on unseen data.*"
   ]
  },
  {
   "cell_type": "markdown",
   "metadata": {},
   "source": [
    "# Proposed Solution\n",
    "\n",
    "To solve this problem, we propose to measure a movie's success in two ways: revenue and vote average (audience score). We will do so by performing two separate linear regressions. This model will infer a relationship between the features given in the data set and revenue and voter average. We will use regularization techniques (Lasso) to squish the least important parameters to zero to leave the most prevalent ones. We can use the Scikit-learn linear regression model to fit the data. We can also use that to predict the performance of upcoming movies. We can use the loss function and perform gradient descent to minimize the loss.\n",
    "\n",
    "\n",
    "Another solution is to perform a logistic regression. We can choose a certain revenue number/audience score that denotes whether a movie will be successful. For instance, a decision boundary will be made if the vote average is above or below a rating of 7 and the farther a point is away from the decision boundary, the higher the probability the movie is successful/unsuccessful (depending on which side the point is on). We can also use Scikit-learn libraries here. We can also use the soft log loss function and adjust the weights using gradient descent. \n",
    "\n",
    "\n",
    "We may plan to exclude certain features, such as actors (since one-hot encoding would be too numerous) or overview (since movie plots are too unique to compare). Also, as mentioned earlier in the Data section, we will make sure missing values are handled with imputation, one-hot encode the according non-numerical features, and split the dataset with k-fold (value to be determined). With the remaining variables we can run the above mentioned methods with the Numpy, Scikit-learn libraries.\n",
    "A potential benchmark model is k-NN, and we can make two, one for predicting revenue and the other voter average. We can compare these two with the corresponding linear and logistic regressions.\n"
   ]
  },
  {
   "cell_type": "markdown",
   "metadata": {},
   "source": [
    "# Evaluation Metrics\n",
    "\n",
    "One evaluation metric that we could use to quantify the performance of the linear regression model in predicting whether or not the movie will be successful or not is with mean squared error. This will measure how accurate our model is. \n",
    "\n",
    "Another possible metric, while less effective but still applicable, would be positive predictive value (PPV) or precision. Our project could be interpreted by predicting a binary result of successful/ not successful, however this metric is much simpler and provides much less insight. We could also make a ROC-AUC to evaluate how good our model is. \n"
   ]
  },
  {
   "cell_type": "markdown",
   "metadata": {},
   "source": [
    "# Ethics & Privacy"
   ]
  },
  {
   "cell_type": "markdown",
   "metadata": {},
   "source": [
    "Personal Information Privacy: The dataset contains the names of people involved in the film industry, such as actors, directors, or production staff. We will anonymize the personal information in the data, i.e. remove relevant variables.\n",
    "\n",
    "Fairness in revenue forecasting: This dataset will be used for forecasting, so inadvertent unfairness may arise. For example, certain genre, production company, or country of origin data may be favored in revenue projections, leading to potential discrepancies or unequal opportunities.\n",
    "\n",
    "Unintended analysis and discrimination: When analyzing datasets, there is a risk of unintended analysis and discrimination. Models or algorithms trained on data may inadvertently learn to bias certain groups based on factors such as language, genre, or country of production."
   ]
  },
  {
   "cell_type": "markdown",
   "metadata": {},
   "source": [
    "# Team Expectations "
   ]
  },
  {
   "cell_type": "markdown",
   "metadata": {},
   "source": [
    "* *Communicate through Discord and regularly schedule weekly remote meetings*\n",
    "* *Major project decisions, review of work done during zoom or discord meetings2*\n",
    "* *Work is to be divided equally, individually completed before next meeting*"
   ]
  },
  {
   "cell_type": "markdown",
   "metadata": {},
   "source": [
    "# Project Timeline Proposal"
   ]
  },
  {
   "cell_type": "markdown",
   "metadata": {},
   "source": [
    "| Meeting Date  | Meeting Time| Completed Before Meeting  | Discuss at Meeting |\n",
    "|---|---|---|---|\n",
    "| 5/17  |  4:30 |  Each part of the project proposal  | Finalize proposal and push to GitHub | \n",
    "| 5/23  |  6:15 |  Read the proposals | Complete peer review, discuss parts of the checkpoint and assign | \n",
    "| 5/30  | 6:15  | Assigned checkpoint parts  | Finalize the checkpoint and push to GitHub. Talk about what is left for final project and assign parts |\n",
    "| 6/8  | 6:15  | Make good progress/finish final project parts | Discuss what is completed and make edits. |\n",
    "| 6/13  | 6:15  | Finish assigned final parts | Finalize and push to GitHub |"
   ]
  },
  {
   "cell_type": "markdown",
   "metadata": {},
   "source": [
    "# Footnotes\n",
    "<a name=\"Eliashberg\"></a>1.[^](#Eliashberg):Eliashberg, J., Elberse, A., & Leenders, M. A. (2013). The Motion Picture Industry: Critical Issues in Practice, Current Research, and New Research Directions:https://repository.upenn.edu/cgi/viewcontent.cgi?article=1179&context=oid_papers<br> \n",
    "\n",
    "<a name=\"Wallace\"></a>2.[^](#Wallace):Wallace, W. T., Seigerman, A., & Holbrook, M. B. (1993). The Role of Actors and Actresses in the Success of Films: How Much Is a Movie Star Worth?https://link.springer.com/article/10.1007/BF00820765<br>\n",
    "\n",
    "<a name=\"De Vany\"></a>3.[^](#De):De Vany, A., & Walls, W. D. (1996). Bose–Einstein dynamics and adaptive contracting in the motion picture industry.https://econpapers.repec.org/article/ecjeconjl/v_3a106_3ay_3a1996_3ai_3a439_3ap_3a1493-1514.htm<br>\n"
   ]
  }
 ],
 "metadata": {
  "kernelspec": {
   "display_name": "Python 3 (ipykernel)",
   "language": "python",
   "name": "python3"
  },
  "language_info": {
   "codemirror_mode": {
    "name": "ipython",
    "version": 3
   },
   "file_extension": ".py",
   "mimetype": "text/x-python",
   "name": "python",
   "nbconvert_exporter": "python",
   "pygments_lexer": "ipython3",
   "version": "3.9.5"
  }
 },
 "nbformat": 4,
 "nbformat_minor": 2
}
